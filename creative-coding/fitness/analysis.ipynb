{
 "cells": [
  {
   "cell_type": "code",
   "execution_count": 17,
   "metadata": {},
   "outputs": [
    {
     "data": {
      "text/html": [
       "<div>\n",
       "<style scoped>\n",
       "    .dataframe tbody tr th:only-of-type {\n",
       "        vertical-align: middle;\n",
       "    }\n",
       "\n",
       "    .dataframe tbody tr th {\n",
       "        vertical-align: top;\n",
       "    }\n",
       "\n",
       "    .dataframe thead th {\n",
       "        text-align: right;\n",
       "    }\n",
       "</style>\n",
       "<table border=\"1\" class=\"dataframe\">\n",
       "  <thead>\n",
       "    <tr style=\"text-align: right;\">\n",
       "      <th></th>\n",
       "      <th>Date</th>\n",
       "      <th>Move Minutes count</th>\n",
       "      <th>Calories (kcal)</th>\n",
       "      <th>Distance (m)</th>\n",
       "      <th>Heart Points</th>\n",
       "      <th>Heart Minutes</th>\n",
       "      <th>Average heart rate (bpm)</th>\n",
       "      <th>Max heart rate (bpm)</th>\n",
       "      <th>Min heart rate (bpm)</th>\n",
       "      <th>Low latitude (deg)</th>\n",
       "      <th>...</th>\n",
       "      <th>unknown duration (ms).53</th>\n",
       "      <th>unknown duration (ms).54</th>\n",
       "      <th>unknown duration (ms).55</th>\n",
       "      <th>unknown duration (ms).56</th>\n",
       "      <th>unknown duration (ms).57</th>\n",
       "      <th>unknown duration (ms).58</th>\n",
       "      <th>unknown duration (ms).59</th>\n",
       "      <th>unknown duration (ms).60</th>\n",
       "      <th>unknown duration (ms).61</th>\n",
       "      <th>unknown duration (ms).62</th>\n",
       "    </tr>\n",
       "  </thead>\n",
       "  <tbody>\n",
       "    <tr>\n",
       "      <th>0</th>\n",
       "      <td>2019-12-24</td>\n",
       "      <td>NaN</td>\n",
       "      <td>389.000000</td>\n",
       "      <td>617.918418</td>\n",
       "      <td>NaN</td>\n",
       "      <td>NaN</td>\n",
       "      <td>77.900631</td>\n",
       "      <td>119.0</td>\n",
       "      <td>51.0</td>\n",
       "      <td>NaN</td>\n",
       "      <td>...</td>\n",
       "      <td>NaN</td>\n",
       "      <td>NaN</td>\n",
       "      <td>NaN</td>\n",
       "      <td>NaN</td>\n",
       "      <td>NaN</td>\n",
       "      <td>NaN</td>\n",
       "      <td>NaN</td>\n",
       "      <td>NaN</td>\n",
       "      <td>NaN</td>\n",
       "      <td>NaN</td>\n",
       "    </tr>\n",
       "    <tr>\n",
       "      <th>1</th>\n",
       "      <td>2019-12-25</td>\n",
       "      <td>39.0</td>\n",
       "      <td>1803.215196</td>\n",
       "      <td>7606.843655</td>\n",
       "      <td>53.0</td>\n",
       "      <td>28.0</td>\n",
       "      <td>85.631668</td>\n",
       "      <td>191.0</td>\n",
       "      <td>50.0</td>\n",
       "      <td>NaN</td>\n",
       "      <td>...</td>\n",
       "      <td>NaN</td>\n",
       "      <td>NaN</td>\n",
       "      <td>NaN</td>\n",
       "      <td>NaN</td>\n",
       "      <td>NaN</td>\n",
       "      <td>NaN</td>\n",
       "      <td>NaN</td>\n",
       "      <td>NaN</td>\n",
       "      <td>NaN</td>\n",
       "      <td>NaN</td>\n",
       "    </tr>\n",
       "    <tr>\n",
       "      <th>2</th>\n",
       "      <td>2019-12-26</td>\n",
       "      <td>195.0</td>\n",
       "      <td>1645.484366</td>\n",
       "      <td>9072.985619</td>\n",
       "      <td>NaN</td>\n",
       "      <td>NaN</td>\n",
       "      <td>81.229475</td>\n",
       "      <td>148.0</td>\n",
       "      <td>48.0</td>\n",
       "      <td>NaN</td>\n",
       "      <td>...</td>\n",
       "      <td>NaN</td>\n",
       "      <td>NaN</td>\n",
       "      <td>NaN</td>\n",
       "      <td>NaN</td>\n",
       "      <td>NaN</td>\n",
       "      <td>NaN</td>\n",
       "      <td>NaN</td>\n",
       "      <td>NaN</td>\n",
       "      <td>NaN</td>\n",
       "      <td>NaN</td>\n",
       "    </tr>\n",
       "    <tr>\n",
       "      <th>3</th>\n",
       "      <td>2019-12-27</td>\n",
       "      <td>32.0</td>\n",
       "      <td>1528.162713</td>\n",
       "      <td>6044.014218</td>\n",
       "      <td>24.0</td>\n",
       "      <td>13.0</td>\n",
       "      <td>92.885234</td>\n",
       "      <td>203.0</td>\n",
       "      <td>52.0</td>\n",
       "      <td>NaN</td>\n",
       "      <td>...</td>\n",
       "      <td>NaN</td>\n",
       "      <td>NaN</td>\n",
       "      <td>NaN</td>\n",
       "      <td>NaN</td>\n",
       "      <td>NaN</td>\n",
       "      <td>13200000.0</td>\n",
       "      <td>NaN</td>\n",
       "      <td>NaN</td>\n",
       "      <td>NaN</td>\n",
       "      <td>NaN</td>\n",
       "    </tr>\n",
       "    <tr>\n",
       "      <th>4</th>\n",
       "      <td>2019-12-28</td>\n",
       "      <td>NaN</td>\n",
       "      <td>803.484363</td>\n",
       "      <td>1649.023269</td>\n",
       "      <td>NaN</td>\n",
       "      <td>NaN</td>\n",
       "      <td>76.576986</td>\n",
       "      <td>127.0</td>\n",
       "      <td>51.0</td>\n",
       "      <td>NaN</td>\n",
       "      <td>...</td>\n",
       "      <td>NaN</td>\n",
       "      <td>NaN</td>\n",
       "      <td>NaN</td>\n",
       "      <td>NaN</td>\n",
       "      <td>NaN</td>\n",
       "      <td>24540000.0</td>\n",
       "      <td>NaN</td>\n",
       "      <td>NaN</td>\n",
       "      <td>NaN</td>\n",
       "      <td>NaN</td>\n",
       "    </tr>\n",
       "  </tbody>\n",
       "</table>\n",
       "<p>5 rows × 94 columns</p>\n",
       "</div>"
      ],
      "text/plain": [
       "        Date  Move Minutes count  Calories (kcal)  Distance (m)  Heart Points  \\\n",
       "0 2019-12-24                 NaN       389.000000    617.918418           NaN   \n",
       "1 2019-12-25                39.0      1803.215196   7606.843655          53.0   \n",
       "2 2019-12-26               195.0      1645.484366   9072.985619           NaN   \n",
       "3 2019-12-27                32.0      1528.162713   6044.014218          24.0   \n",
       "4 2019-12-28                 NaN       803.484363   1649.023269           NaN   \n",
       "\n",
       "   Heart Minutes  Average heart rate (bpm)  Max heart rate (bpm)  \\\n",
       "0            NaN                 77.900631                 119.0   \n",
       "1           28.0                 85.631668                 191.0   \n",
       "2            NaN                 81.229475                 148.0   \n",
       "3           13.0                 92.885234                 203.0   \n",
       "4            NaN                 76.576986                 127.0   \n",
       "\n",
       "   Min heart rate (bpm)  Low latitude (deg)  ...  unknown duration (ms).53  \\\n",
       "0                  51.0                 NaN  ...                       NaN   \n",
       "1                  50.0                 NaN  ...                       NaN   \n",
       "2                  48.0                 NaN  ...                       NaN   \n",
       "3                  52.0                 NaN  ...                       NaN   \n",
       "4                  51.0                 NaN  ...                       NaN   \n",
       "\n",
       "   unknown duration (ms).54  unknown duration (ms).55  \\\n",
       "0                       NaN                       NaN   \n",
       "1                       NaN                       NaN   \n",
       "2                       NaN                       NaN   \n",
       "3                       NaN                       NaN   \n",
       "4                       NaN                       NaN   \n",
       "\n",
       "   unknown duration (ms).56  unknown duration (ms).57  \\\n",
       "0                       NaN                       NaN   \n",
       "1                       NaN                       NaN   \n",
       "2                       NaN                       NaN   \n",
       "3                       NaN                       NaN   \n",
       "4                       NaN                       NaN   \n",
       "\n",
       "   unknown duration (ms).58  unknown duration (ms).59  \\\n",
       "0                       NaN                       NaN   \n",
       "1                       NaN                       NaN   \n",
       "2                       NaN                       NaN   \n",
       "3                13200000.0                       NaN   \n",
       "4                24540000.0                       NaN   \n",
       "\n",
       "   unknown duration (ms).60  unknown duration (ms).61  \\\n",
       "0                       NaN                       NaN   \n",
       "1                       NaN                       NaN   \n",
       "2                       NaN                       NaN   \n",
       "3                       NaN                       NaN   \n",
       "4                       NaN                       NaN   \n",
       "\n",
       "   unknown duration (ms).62  \n",
       "0                       NaN  \n",
       "1                       NaN  \n",
       "2                       NaN  \n",
       "3                       NaN  \n",
       "4                       NaN  \n",
       "\n",
       "[5 rows x 94 columns]"
      ]
     },
     "execution_count": 17,
     "metadata": {},
     "output_type": "execute_result"
    }
   ],
   "source": [
    "import pandas as pd\n",
    "import datetime\n",
    "import seaborn as sns\n",
    "\n",
    "metrics = pd.read_csv('Daily activity metrics.csv')\n",
    "\n",
    "new_date = []\n",
    "for date in metrics.Date:\n",
    "    new_date.append(datetime.datetime.strptime(date, '%Y-%m-%d'))\n",
    "metrics.Date = new_date\n",
    "\n",
    "metrics.head()"
   ]
  },
  {
   "cell_type": "code",
   "execution_count": 24,
   "metadata": {},
   "outputs": [
    {
     "data": {
      "text/plain": [
       "Index(['Date', 'Move Minutes count', 'Calories (kcal)', 'Distance (m)',\n",
       "       'Heart Points', 'Heart Minutes', 'Average heart rate (bpm)',\n",
       "       'Max heart rate (bpm)', 'Min heart rate (bpm)', 'Low latitude (deg)',\n",
       "       'Low longitude (deg)', 'High latitude (deg)', 'High longitude (deg)',\n",
       "       'Average speed (m/s)', 'Max speed (m/s)', 'Min speed (m/s)',\n",
       "       'Step count', 'Average weight (kg)', 'Max weight (kg)',\n",
       "       'Min weight (kg)', 'Biking duration (ms)', 'Inactive duration (ms)',\n",
       "       'Walking duration (ms)', 'Running duration (ms)',\n",
       "       'Elliptical duration (ms)', 'Martial arts duration (ms)',\n",
       "       'Rock climbing duration (ms)', 'Cross-country skiing duration (ms)',\n",
       "       'Swimming duration (ms)', 'Treadmill walking duration (ms)',\n",
       "       'Other duration (ms)', 'unknown duration (ms)',\n",
       "       'unknown duration (ms).1', 'unknown duration (ms).2',\n",
       "       'unknown duration (ms).3', 'unknown duration (ms).4',\n",
       "       'unknown duration (ms).5', 'unknown duration (ms).6',\n",
       "       'unknown duration (ms).7', 'unknown duration (ms).8',\n",
       "       'unknown duration (ms).9', 'unknown duration (ms).10',\n",
       "       'unknown duration (ms).11', 'unknown duration (ms).12',\n",
       "       'unknown duration (ms).13', 'unknown duration (ms).14',\n",
       "       'unknown duration (ms).15', 'unknown duration (ms).16',\n",
       "       'unknown duration (ms).17', 'unknown duration (ms).18',\n",
       "       'unknown duration (ms).19', 'unknown duration (ms).20',\n",
       "       'unknown duration (ms).21', 'unknown duration (ms).22',\n",
       "       'unknown duration (ms).23', 'unknown duration (ms).24',\n",
       "       'unknown duration (ms).25', 'unknown duration (ms).26',\n",
       "       'unknown duration (ms).27', 'unknown duration (ms).28',\n",
       "       'unknown duration (ms).29', 'unknown duration (ms).30',\n",
       "       'unknown duration (ms).31', 'unknown duration (ms).32',\n",
       "       'unknown duration (ms).33', 'unknown duration (ms).34',\n",
       "       'unknown duration (ms).35', 'unknown duration (ms).36',\n",
       "       'unknown duration (ms).37', 'unknown duration (ms).38',\n",
       "       'unknown duration (ms).39', 'unknown duration (ms).40',\n",
       "       'unknown duration (ms).41', 'unknown duration (ms).42',\n",
       "       'unknown duration (ms).43', 'unknown duration (ms).44',\n",
       "       'unknown duration (ms).45', 'unknown duration (ms).46',\n",
       "       'unknown duration (ms).47', 'unknown duration (ms).48',\n",
       "       'unknown duration (ms).49', 'unknown duration (ms).50',\n",
       "       'unknown duration (ms).51', 'unknown duration (ms).52',\n",
       "       'unknown duration (ms).53', 'unknown duration (ms).54',\n",
       "       'unknown duration (ms).55', 'unknown duration (ms).56',\n",
       "       'unknown duration (ms).57', 'unknown duration (ms).58',\n",
       "       'unknown duration (ms).59', 'unknown duration (ms).60',\n",
       "       'unknown duration (ms).61', 'unknown duration (ms).62'],\n",
       "      dtype='object')"
      ]
     },
     "execution_count": 24,
     "metadata": {},
     "output_type": "execute_result"
    }
   ],
   "source": [
    "metrics.columns"
   ]
  },
  {
   "cell_type": "code",
   "execution_count": 19,
   "metadata": {},
   "outputs": [
    {
     "data": {
      "text/plain": [
       "<AxesSubplot:xlabel='Date', ylabel='Average heart rate (bpm)'>"
      ]
     },
     "execution_count": 19,
     "metadata": {},
     "output_type": "execute_result"
    },
    {
     "data": {
      "image/png": "[encoded data removed]",
      "text/plain": [
       "<Figure size 432x288 with 1 Axes>"
      ]
     },
     "metadata": {
      "needs_background": "light"
     },
     "output_type": "display_data"
    }
   ],
   "source": [
    "sns.lineplot(x=\"Date\", y='Average heart rate (bpm)', data=metrics)"
   ]
  },
  {
   "cell_type": "code",
   "execution_count": 27,
   "metadata": {},
   "outputs": [
    {
     "data": {
      "text/plain": [
       "<AxesSubplot:xlabel='Date', ylabel='Distance (m)'>"
      ]
     },
     "execution_count": 27,
     "metadata": {},
     "output_type": "execute_result"
    },
    {
     "data": {
      "image/png": "[encoded data removed]",
      "text/plain": [
       "<Figure size 432x288 with 1 Axes>"
      ]
     },
     "metadata": {
      "needs_background": "light"
     },
     "output_type": "display_data"
    }
   ],
   "source": [
    "sns.lineplot(x=\"Date\", y='Distance (m)', data=metrics)"
   ]
  },
  {
   "cell_type": "code",
   "execution_count": 4,
   "metadata": {},
   "outputs": [
    {
     "data": {
      "text/plain": [
       "<AxesSubplot:>"
      ]
     },
     "execution_count": 4,
     "metadata": {},
     "output_type": "execute_result"
    },
    {
     "data": {
      "image/png": "[encoded data removed]",
      "text/plain": [
       "<Figure size 432x288 with 1 Axes>"
      ]
     },
     "metadata": {
      "needs_background": "light"
     },
     "output_type": "display_data"
    }
   ],
   "source": [
    "metrics['Average heart rate (bpm)'].plot()"
   ]
  },
  {
   "cell_type": "code",
   "execution_count": null,
   "metadata": {},
   "outputs": [],
   "source": []
  }
 ],
 "metadata": {
  "kernelspec": {
   "display_name": "Python 3.8.5 ('base')",
   "language": "python",
   "name": "python3"
  },
  "language_info": {
   "codemirror_mode": {
    "name": "ipython",
    "version": 3
   },
   "file_extension": ".py",
   "mimetype": "text/x-python",
   "name": "python",
   "nbconvert_exporter": "python",
   "pygments_lexer": "ipython3",
   "version": "3.8.5"
  },
  "orig_nbformat": 4,
  "vscode": {
   "interpreter": {
    "hash": "7c311db66170448179af7a66efd3978b51641ebc0e0cc09282239370e62fe176"
   }
  }
 },
 "nbformat": 4,
 "nbformat_minor": 2
}
